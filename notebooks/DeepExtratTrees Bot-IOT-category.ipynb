{
  "cells": [
    {
      "cell_type": "code",
      "source": [
        "!pip install deep-forest"
      ],
      "metadata": {
        "id": "1B7veZedwBMJ",
        "outputId": "8f15a8fd-ddbf-4cb3-ebab-3ff8c0b5b38d",
        "colab": {
          "base_uri": "https://localhost:8080/"
        }
      },
      "execution_count": 5,
      "outputs": [
        {
          "output_type": "stream",
          "name": "stdout",
          "text": [
            "Looking in indexes: https://pypi.org/simple, https://us-python.pkg.dev/colab-wheels/public/simple/\n",
            "Collecting deep-forest\n",
            "  Downloading deep_forest-0.1.7-cp38-cp38-manylinux2010_x86_64.whl (2.8 MB)\n",
            "\u001b[2K     \u001b[90m━━━━━━━━━━━━━━━━━━━━━━━━━━━━━━━━━━━━━━━━\u001b[0m \u001b[32m2.8/2.8 MB\u001b[0m \u001b[31m32.1 MB/s\u001b[0m eta \u001b[36m0:00:00\u001b[0m\n",
            "\u001b[?25hRequirement already satisfied: scipy>=1.1.0 in /usr/local/lib/python3.8/dist-packages (from deep-forest) (1.7.3)\n",
            "Requirement already satisfied: numpy>=1.14.6 in /usr/local/lib/python3.8/dist-packages (from deep-forest) (1.21.6)\n",
            "Requirement already satisfied: joblib>=0.11 in /usr/local/lib/python3.8/dist-packages (from deep-forest) (1.2.0)\n",
            "Requirement already satisfied: scikit-learn>=1.0 in /usr/local/lib/python3.8/dist-packages (from deep-forest) (1.0.2)\n",
            "Requirement already satisfied: threadpoolctl>=2.0.0 in /usr/local/lib/python3.8/dist-packages (from scikit-learn>=1.0->deep-forest) (3.1.0)\n",
            "Installing collected packages: deep-forest\n",
            "Successfully installed deep-forest-0.1.7\n"
          ]
        }
      ]
    },
    {
      "cell_type": "code",
      "execution_count": 6,
      "metadata": {
        "id": "S7TAeASovIRf",
        "outputId": "341852f2-1620-4d85-ad75-098b94ca9f65",
        "colab": {
          "base_uri": "https://localhost:8080/"
        }
      },
      "outputs": [
        {
          "output_type": "stream",
          "name": "stdout",
          "text": [
            "Mounted at /content/drive/\n"
          ]
        }
      ],
      "source": [
        "# imports \n",
        "import numpy as np\n",
        "from math import sqrt \n",
        "from pprint import pprint\n",
        "from numpy import array\n",
        "import pandas as pd\n",
        "from time import time\n",
        "from sklearn.model_selection import train_test_split\n",
        "from sklearn.preprocessing import LabelEncoder, StandardScaler, OrdinalEncoder\n",
        "from sklearn.metrics import accuracy_score\n",
        "\n",
        "from deepforest import CascadeForestClassifier\n",
        "\n",
        "from yellowbrick.classifier import ROCAUC\n",
        "\n",
        "import warnings\n",
        "warnings.filterwarnings('ignore')\n",
        "\n",
        "from google.colab import drive\n",
        "drive.mount('/content/drive/')\n",
        "\n",
        "# Insert the directory\n",
        "import sys\n",
        "sys.path.insert(0,'/content/drive/My Drive/')"
      ]
    },
    {
      "cell_type": "code",
      "execution_count": 7,
      "metadata": {
        "id": "tgfrJF7NvIRi",
        "outputId": "30dd6473-a939-4343-e879-af412704fc51",
        "colab": {
          "base_uri": "https://localhost:8080/",
          "height": 305
        }
      },
      "outputs": [
        {
          "output_type": "stream",
          "name": "stdout",
          "text": [
            "shape of data:  (3668522, 19)\n",
            "----------------------------------\n"
          ]
        },
        {
          "output_type": "execute_result",
          "data": {
            "text/plain": [
              "         pkSeqID proto            saddr  sport          daddr dport     seq  \\\n",
              "3433037  3433038   udp  192.168.100.147  56390  192.168.100.3    80   17957   \n",
              "2876379  2876380   udp  192.168.100.149  61207  192.168.100.3    80  247763   \n",
              "738051    738052   udp  192.168.100.150  30242  192.168.100.3    80  120775   \n",
              "3088318  3088319   udp  192.168.100.150  49244  192.168.100.3    80  197541   \n",
              "824654    824655   udp  192.168.100.150  59205  192.168.100.3    80  207378   \n",
              "\n",
              "           stddev  N_IN_Conn_P_SrcIP       min  state_number      mean  \\\n",
              "3433037  0.830299                 87  2.936662             4  3.976313   \n",
              "2876379  1.180276                100  2.027345             4  3.207621   \n",
              "738051   0.123128                100  4.448598             4  4.615377   \n",
              "3088318  1.901020                 44  0.000000             4  2.688448   \n",
              "824654   0.439272                100  3.596719             4  4.339324   \n",
              "\n",
              "         N_IN_Conn_P_DstIP  drate     srate       max  attack category  \\\n",
              "3433037                100    0.0  1.007614  4.968832       1     DDoS   \n",
              "2876379                100    0.0  0.473772  4.387897       1     DDoS   \n",
              "738051                 100    0.0  0.390466  4.746838       1      DoS   \n",
              "3088318                100    0.0  0.494538  4.033067       1     DDoS   \n",
              "824654                 100    0.0  0.415569  4.730598       1      DoS   \n",
              "\n",
              "        subcategory  \n",
              "3433037         UDP  \n",
              "2876379         UDP  \n",
              "738051          UDP  \n",
              "3088318         UDP  \n",
              "824654          UDP  "
            ],
            "text/html": [
              "\n",
              "  <div id=\"df-25c613a3-2a22-4a9e-8bc3-8e6c959afb67\">\n",
              "    <div class=\"colab-df-container\">\n",
              "      <div>\n",
              "<style scoped>\n",
              "    .dataframe tbody tr th:only-of-type {\n",
              "        vertical-align: middle;\n",
              "    }\n",
              "\n",
              "    .dataframe tbody tr th {\n",
              "        vertical-align: top;\n",
              "    }\n",
              "\n",
              "    .dataframe thead th {\n",
              "        text-align: right;\n",
              "    }\n",
              "</style>\n",
              "<table border=\"1\" class=\"dataframe\">\n",
              "  <thead>\n",
              "    <tr style=\"text-align: right;\">\n",
              "      <th></th>\n",
              "      <th>pkSeqID</th>\n",
              "      <th>proto</th>\n",
              "      <th>saddr</th>\n",
              "      <th>sport</th>\n",
              "      <th>daddr</th>\n",
              "      <th>dport</th>\n",
              "      <th>seq</th>\n",
              "      <th>stddev</th>\n",
              "      <th>N_IN_Conn_P_SrcIP</th>\n",
              "      <th>min</th>\n",
              "      <th>state_number</th>\n",
              "      <th>mean</th>\n",
              "      <th>N_IN_Conn_P_DstIP</th>\n",
              "      <th>drate</th>\n",
              "      <th>srate</th>\n",
              "      <th>max</th>\n",
              "      <th>attack</th>\n",
              "      <th>category</th>\n",
              "      <th>subcategory</th>\n",
              "    </tr>\n",
              "  </thead>\n",
              "  <tbody>\n",
              "    <tr>\n",
              "      <th>3433037</th>\n",
              "      <td>3433038</td>\n",
              "      <td>udp</td>\n",
              "      <td>192.168.100.147</td>\n",
              "      <td>56390</td>\n",
              "      <td>192.168.100.3</td>\n",
              "      <td>80</td>\n",
              "      <td>17957</td>\n",
              "      <td>0.830299</td>\n",
              "      <td>87</td>\n",
              "      <td>2.936662</td>\n",
              "      <td>4</td>\n",
              "      <td>3.976313</td>\n",
              "      <td>100</td>\n",
              "      <td>0.0</td>\n",
              "      <td>1.007614</td>\n",
              "      <td>4.968832</td>\n",
              "      <td>1</td>\n",
              "      <td>DDoS</td>\n",
              "      <td>UDP</td>\n",
              "    </tr>\n",
              "    <tr>\n",
              "      <th>2876379</th>\n",
              "      <td>2876380</td>\n",
              "      <td>udp</td>\n",
              "      <td>192.168.100.149</td>\n",
              "      <td>61207</td>\n",
              "      <td>192.168.100.3</td>\n",
              "      <td>80</td>\n",
              "      <td>247763</td>\n",
              "      <td>1.180276</td>\n",
              "      <td>100</td>\n",
              "      <td>2.027345</td>\n",
              "      <td>4</td>\n",
              "      <td>3.207621</td>\n",
              "      <td>100</td>\n",
              "      <td>0.0</td>\n",
              "      <td>0.473772</td>\n",
              "      <td>4.387897</td>\n",
              "      <td>1</td>\n",
              "      <td>DDoS</td>\n",
              "      <td>UDP</td>\n",
              "    </tr>\n",
              "    <tr>\n",
              "      <th>738051</th>\n",
              "      <td>738052</td>\n",
              "      <td>udp</td>\n",
              "      <td>192.168.100.150</td>\n",
              "      <td>30242</td>\n",
              "      <td>192.168.100.3</td>\n",
              "      <td>80</td>\n",
              "      <td>120775</td>\n",
              "      <td>0.123128</td>\n",
              "      <td>100</td>\n",
              "      <td>4.448598</td>\n",
              "      <td>4</td>\n",
              "      <td>4.615377</td>\n",
              "      <td>100</td>\n",
              "      <td>0.0</td>\n",
              "      <td>0.390466</td>\n",
              "      <td>4.746838</td>\n",
              "      <td>1</td>\n",
              "      <td>DoS</td>\n",
              "      <td>UDP</td>\n",
              "    </tr>\n",
              "    <tr>\n",
              "      <th>3088318</th>\n",
              "      <td>3088319</td>\n",
              "      <td>udp</td>\n",
              "      <td>192.168.100.150</td>\n",
              "      <td>49244</td>\n",
              "      <td>192.168.100.3</td>\n",
              "      <td>80</td>\n",
              "      <td>197541</td>\n",
              "      <td>1.901020</td>\n",
              "      <td>44</td>\n",
              "      <td>0.000000</td>\n",
              "      <td>4</td>\n",
              "      <td>2.688448</td>\n",
              "      <td>100</td>\n",
              "      <td>0.0</td>\n",
              "      <td>0.494538</td>\n",
              "      <td>4.033067</td>\n",
              "      <td>1</td>\n",
              "      <td>DDoS</td>\n",
              "      <td>UDP</td>\n",
              "    </tr>\n",
              "    <tr>\n",
              "      <th>824654</th>\n",
              "      <td>824655</td>\n",
              "      <td>udp</td>\n",
              "      <td>192.168.100.150</td>\n",
              "      <td>59205</td>\n",
              "      <td>192.168.100.3</td>\n",
              "      <td>80</td>\n",
              "      <td>207378</td>\n",
              "      <td>0.439272</td>\n",
              "      <td>100</td>\n",
              "      <td>3.596719</td>\n",
              "      <td>4</td>\n",
              "      <td>4.339324</td>\n",
              "      <td>100</td>\n",
              "      <td>0.0</td>\n",
              "      <td>0.415569</td>\n",
              "      <td>4.730598</td>\n",
              "      <td>1</td>\n",
              "      <td>DoS</td>\n",
              "      <td>UDP</td>\n",
              "    </tr>\n",
              "  </tbody>\n",
              "</table>\n",
              "</div>\n",
              "      <button class=\"colab-df-convert\" onclick=\"convertToInteractive('df-25c613a3-2a22-4a9e-8bc3-8e6c959afb67')\"\n",
              "              title=\"Convert this dataframe to an interactive table.\"\n",
              "              style=\"display:none;\">\n",
              "        \n",
              "  <svg xmlns=\"http://www.w3.org/2000/svg\" height=\"24px\"viewBox=\"0 0 24 24\"\n",
              "       width=\"24px\">\n",
              "    <path d=\"M0 0h24v24H0V0z\" fill=\"none\"/>\n",
              "    <path d=\"M18.56 5.44l.94 2.06.94-2.06 2.06-.94-2.06-.94-.94-2.06-.94 2.06-2.06.94zm-11 1L8.5 8.5l.94-2.06 2.06-.94-2.06-.94L8.5 2.5l-.94 2.06-2.06.94zm10 10l.94 2.06.94-2.06 2.06-.94-2.06-.94-.94-2.06-.94 2.06-2.06.94z\"/><path d=\"M17.41 7.96l-1.37-1.37c-.4-.4-.92-.59-1.43-.59-.52 0-1.04.2-1.43.59L10.3 9.45l-7.72 7.72c-.78.78-.78 2.05 0 2.83L4 21.41c.39.39.9.59 1.41.59.51 0 1.02-.2 1.41-.59l7.78-7.78 2.81-2.81c.8-.78.8-2.07 0-2.86zM5.41 20L4 18.59l7.72-7.72 1.47 1.35L5.41 20z\"/>\n",
              "  </svg>\n",
              "      </button>\n",
              "      \n",
              "  <style>\n",
              "    .colab-df-container {\n",
              "      display:flex;\n",
              "      flex-wrap:wrap;\n",
              "      gap: 12px;\n",
              "    }\n",
              "\n",
              "    .colab-df-convert {\n",
              "      background-color: #E8F0FE;\n",
              "      border: none;\n",
              "      border-radius: 50%;\n",
              "      cursor: pointer;\n",
              "      display: none;\n",
              "      fill: #1967D2;\n",
              "      height: 32px;\n",
              "      padding: 0 0 0 0;\n",
              "      width: 32px;\n",
              "    }\n",
              "\n",
              "    .colab-df-convert:hover {\n",
              "      background-color: #E2EBFA;\n",
              "      box-shadow: 0px 1px 2px rgba(60, 64, 67, 0.3), 0px 1px 3px 1px rgba(60, 64, 67, 0.15);\n",
              "      fill: #174EA6;\n",
              "    }\n",
              "\n",
              "    [theme=dark] .colab-df-convert {\n",
              "      background-color: #3B4455;\n",
              "      fill: #D2E3FC;\n",
              "    }\n",
              "\n",
              "    [theme=dark] .colab-df-convert:hover {\n",
              "      background-color: #434B5C;\n",
              "      box-shadow: 0px 1px 3px 1px rgba(0, 0, 0, 0.15);\n",
              "      filter: drop-shadow(0px 1px 2px rgba(0, 0, 0, 0.3));\n",
              "      fill: #FFFFFF;\n",
              "    }\n",
              "  </style>\n",
              "\n",
              "      <script>\n",
              "        const buttonEl =\n",
              "          document.querySelector('#df-25c613a3-2a22-4a9e-8bc3-8e6c959afb67 button.colab-df-convert');\n",
              "        buttonEl.style.display =\n",
              "          google.colab.kernel.accessAllowed ? 'block' : 'none';\n",
              "\n",
              "        async function convertToInteractive(key) {\n",
              "          const element = document.querySelector('#df-25c613a3-2a22-4a9e-8bc3-8e6c959afb67');\n",
              "          const dataTable =\n",
              "            await google.colab.kernel.invokeFunction('convertToInteractive',\n",
              "                                                     [key], {});\n",
              "          if (!dataTable) return;\n",
              "\n",
              "          const docLinkHtml = 'Like what you see? Visit the ' +\n",
              "            '<a target=\"_blank\" href=https://colab.research.google.com/notebooks/data_table.ipynb>data table notebook</a>'\n",
              "            + ' to learn more about interactive tables.';\n",
              "          element.innerHTML = '';\n",
              "          dataTable['output_type'] = 'display_data';\n",
              "          await google.colab.output.renderOutput(dataTable, element);\n",
              "          const docLink = document.createElement('div');\n",
              "          docLink.innerHTML = docLinkHtml;\n",
              "          element.appendChild(docLink);\n",
              "        }\n",
              "      </script>\n",
              "    </div>\n",
              "  </div>\n",
              "  "
            ]
          },
          "metadata": {},
          "execution_count": 7
        }
      ],
      "source": [
        "# load data\n",
        "df=pd.read_csv('/content/drive/MyDrive/data/UNSW_2018_IoT_Botnet_Final_10_Best.csv',sep=\";\")  \n",
        "del df['Unnamed: 0']\n",
        "\n",
        "#df=pd.read_csv('/content/drive/MyDrive/data/300.csv',sep=\",\") \n",
        "\n",
        "\n",
        "df = df.sample(frac=1)\n",
        "print(\"shape of data: \",df.shape)\n",
        "print(\"----------------------------------\")\n",
        "\n",
        "df.head()"
      ]
    },
    {
      "cell_type": "markdown",
      "metadata": {
        "id": "ZZKWpwh7vIRj"
      },
      "source": [
        "# Exploratory Data Analysis"
      ]
    },
    {
      "cell_type": "markdown",
      "metadata": {
        "id": "12SjZqtlvIRl"
      },
      "source": [
        "# Extracting 10 best features"
      ]
    },
    {
      "cell_type": "code",
      "execution_count": 8,
      "metadata": {
        "id": "iRDIobBqvIRl"
      },
      "outputs": [],
      "source": [
        "ten_best_features = df[['seq','stddev','N_IN_Conn_P_SrcIP', 'min', 'state_number', 'mean', 'N_IN_Conn_P_DstIP',\n",
        "       'drate', 'srate', 'max','category']]\n",
        "#target_features = df[['attack','category','subcategory']]"
      ]
    },
    {
      "cell_type": "markdown",
      "metadata": {
        "id": "v3hLJ1slvIRm"
      },
      "source": [
        "# Data Preprocessing\n"
      ]
    },
    {
      "cell_type": "code",
      "execution_count": 327,
      "metadata": {
        "id": "3sjDYyidvIRm",
        "outputId": "b45af03a-76c5-430e-9049-bd62cce16c03",
        "colab": {
          "base_uri": "https://localhost:8080/"
        }
      },
      "outputs": [
        {
          "output_type": "execute_result",
          "data": {
            "text/plain": [
              "[3, 1, 2, 0]"
            ]
          },
          "metadata": {},
          "execution_count": 327
        }
      ],
      "source": [
        "# Label Encoding the target columns\n",
        "\n",
        "le = LabelEncoder()\n",
        "ten_best_features['category'] = le.fit_transform(ten_best_features['category'])\n",
        "#target_features['subcategory'] = le.fit_transform(target_features['subcategory'])\n",
        "\n",
        "#target_features.head()\n",
        "\n",
        "classes = list(ten_best_features['category'].unique()) \n",
        "classes"
      ]
    },
    {
      "cell_type": "code",
      "execution_count": 9,
      "metadata": {
        "id": "AA436xbgvIRo"
      },
      "outputs": [],
      "source": [
        "ten_best_features = ten_best_features.values\n",
        "\n",
        "y = ten_best_features[:,10]\n",
        "X = ten_best_features[:,0:10]\n",
        "\n",
        "# Train-test Split\n",
        "X_train, X_test, y_train, y_test = train_test_split(X,y,test_size=0.3)\n",
        "\n",
        "\n",
        "# Scaling the data\n",
        "sc = StandardScaler()\n",
        "X_train = sc.fit_transform(X_train)\n",
        "X_test = sc.transform(X_test)"
      ]
    },
    {
      "cell_type": "code",
      "execution_count": 329,
      "metadata": {
        "id": "tnr3mpNDvIRo",
        "outputId": "2e26945a-dd3c-4f32-e657-a802248d64bc",
        "colab": {
          "base_uri": "https://localhost:8080/"
        }
      },
      "outputs": [
        {
          "output_type": "stream",
          "name": "stdout",
          "text": [
            "number classes : 4\n"
          ]
        }
      ],
      "source": [
        "# number of class\n",
        "print('number classes :', len(np.unique(y_train)))"
      ]
    },
    {
      "cell_type": "markdown",
      "metadata": {
        "id": "fUHLIb84vIRo"
      },
      "source": [
        "# Extratrees Deep"
      ]
    },
    {
      "cell_type": "code",
      "execution_count": 330,
      "metadata": {
        "id": "FMiwwdz0vIRo"
      },
      "outputs": [],
      "source": [
        "# Extratrees Deep\n",
        "import argparse\n",
        "import sys\n",
        "import pickle\n",
        "from sklearn.metrics import accuracy_score\n",
        "sys.path.insert(0, \"lib\")\n",
        "from gcforest.gcforest import GCForest\n",
        "from gcforest.utils.config_utils import load_json\n",
        "config = load_json(\"/content/drive/My Drive/examples/category.json\")\n",
        "gc = GCForest(config)"
      ]
    },
    {
      "cell_type": "code",
      "execution_count": 331,
      "metadata": {
        "id": "a8Boc9TVvIRp",
        "outputId": "b514515d-5469-4c95-ba94-8e44bfe18232",
        "colab": {
          "base_uri": "https://localhost:8080/"
        }
      },
      "outputs": [
        {
          "output_type": "stream",
          "name": "stderr",
          "text": [
            "INFO:gcforest.cascade.cascade_classifier:X_groups_train.shape=[(210, 10)],y_train.shape=(210,),X_groups_test.shape=[(90, 10)],y_test.shape=(90,)\n",
            "INFO:gcforest.cascade.cascade_classifier:group_dims=[10]\n",
            "INFO:gcforest.cascade.cascade_classifier:group_starts=[0]\n",
            "INFO:gcforest.cascade.cascade_classifier:group_ends=[10]\n",
            "INFO:gcforest.cascade.cascade_classifier:X_train.shape=(210, 10),X_test.shape=(90, 10)\n",
            "INFO:gcforest.cascade.cascade_classifier:[layer=0] look_indexs=[0], X_cur_train.shape=(210, 10), X_cur_test.shape=(90, 10)\n",
            "INFO:gcforest.estimators.kfold_wrapper:Accuracy(layer_0 - estimator_0 - 10_folds.train_0.predict)=90.48%\n",
            "INFO:gcforest.estimators.kfold_wrapper:Accuracy(layer_0 - estimator_0 - 10_folds.train_1.predict)=80.95%\n",
            "INFO:gcforest.estimators.kfold_wrapper:Accuracy(layer_0 - estimator_0 - 10_folds.train_2.predict)=85.71%\n",
            "INFO:gcforest.estimators.kfold_wrapper:Accuracy(layer_0 - estimator_0 - 10_folds.train_3.predict)=95.24%\n",
            "INFO:gcforest.estimators.kfold_wrapper:Accuracy(layer_0 - estimator_0 - 10_folds.train_4.predict)=76.19%\n",
            "INFO:gcforest.estimators.kfold_wrapper:Accuracy(layer_0 - estimator_0 - 10_folds.train_5.predict)=95.24%\n",
            "INFO:gcforest.estimators.kfold_wrapper:Accuracy(layer_0 - estimator_0 - 10_folds.train_6.predict)=100.00%\n",
            "INFO:gcforest.estimators.kfold_wrapper:Accuracy(layer_0 - estimator_0 - 10_folds.train_7.predict)=80.95%\n",
            "INFO:gcforest.estimators.kfold_wrapper:Accuracy(layer_0 - estimator_0 - 10_folds.train_8.predict)=95.24%\n",
            "INFO:gcforest.estimators.kfold_wrapper:Accuracy(layer_0 - estimator_0 - 10_folds.train_9.predict)=95.24%\n",
            "INFO:gcforest.estimators.kfold_wrapper:Accuracy(layer_0 - estimator_0 - 10_folds.train_cv.predict)=89.52%\n",
            "INFO:gcforest.estimators.kfold_wrapper:Accuracy(layer_0 - estimator_0 - 10_folds.test.predict)=94.44%\n",
            "INFO:gcforest.cascade.cascade_classifier:Accuracy(layer_0 - train.classifier_average)=89.52%\n",
            "INFO:gcforest.cascade.cascade_classifier:Accuracy(layer_0 - test.classifier_average)=94.44%\n",
            "INFO:gcforest.cascade.cascade_classifier:[Result][Reach Max Layer] opt_layer_num=1, accuracy_train=89.52%, accuracy_test=94.44%\n"
          ]
        }
      ],
      "source": [
        "# X_enc is the concatenated predict_proba result of DeepExtraTrees\n",
        "X_train_enc, X_test_enc = gc.fit_transform(X_train, y_train, X_test=X_test, y_test=y_test)"
      ]
    },
    {
      "cell_type": "code",
      "execution_count": 332,
      "metadata": {
        "id": "4cAr-KjhvIRq",
        "outputId": "5aea534b-9a71-41a5-a5e8-a69266030616",
        "colab": {
          "base_uri": "https://localhost:8080/"
        }
      },
      "outputs": [
        {
          "output_type": "stream",
          "name": "stderr",
          "text": [
            "INFO:gcforest.cascade.cascade_classifier:X_groups_test.shape=[(90, 10)]\n",
            "INFO:gcforest.cascade.cascade_classifier:group_dims=[10]\n",
            "INFO:gcforest.cascade.cascade_classifier:X_test.shape=(90, 10)\n",
            "INFO:gcforest.cascade.cascade_classifier:[layer=0] look_indexs=[0], X_cur_test.shape=(90, 10)\n"
          ]
        },
        {
          "output_type": "stream",
          "name": "stdout",
          "text": [
            "Test Accuracy of DeepExtratTrees = 94.444444 %\n",
            "[[24  0  1  0]\n",
            " [ 1 23  1  0]\n",
            " [ 1  0 18  0]\n",
            " [ 1  0  0 20]]\n",
            "\n",
            "\n",
            "              precision    recall  f1-score   support\n",
            "\n",
            "         0.0       0.89      0.96      0.92        25\n",
            "         1.0       1.00      0.92      0.96        25\n",
            "         2.0       0.90      0.95      0.92        19\n",
            "         3.0       1.00      0.95      0.98        21\n",
            "\n",
            "    accuracy                           0.94        90\n",
            "   macro avg       0.95      0.94      0.95        90\n",
            "weighted avg       0.95      0.94      0.95        90\n",
            "\n"
          ]
        }
      ],
      "source": [
        "# predict\n",
        "y_pred = gc.predict(X_test)\n",
        "acc = accuracy_score(y_test, y_pred)\n",
        "print(\"Test Accuracy of DeepExtratTrees = {:.6f} %\".format(acc * 100))\n",
        " # Matrix de confusion\n",
        "from sklearn.metrics import classification_report, confusion_matrix\n",
        "print(confusion_matrix(y_test,y_pred))\n",
        "print('\\n')\n",
        "print(classification_report(y_test,y_pred))"
      ]
    },
    {
      "cell_type": "code",
      "execution_count": null,
      "metadata": {
        "id": "d6XrTDOyvIRq",
        "outputId": "bf09b99c-2102-4021-f514-f04f6ded052e",
        "colab": {
          "base_uri": "https://localhost:8080/"
        }
      },
      "outputs": [
        {
          "output_type": "stream",
          "name": "stdout",
          "text": [
            "[2023-01-11 09:36:02.299] Start to fit the model:\n",
            "[2023-01-11 09:36:02.301] Fitting cascade layer = 0 \n"
          ]
        }
      ],
      "source": [
        "from deepforest import CascadeForestClassifier\n",
        "\n",
        "det = CascadeForestClassifier(random_state=1)\n",
        "det.fit(X_train, y_train)\n",
        "y_pred = det.predict(X_test)\n",
        "acc = accuracy_score(y_test, y_pred) * 100\n",
        "print(\"\\nTesting Accuracy: {:.3f} %\".format(acc))"
      ]
    },
    {
      "cell_type": "code",
      "execution_count": null,
      "metadata": {
        "id": "f7UzPWBsvIRq"
      },
      "outputs": [],
      "source": [
        "# predict\n",
        "y_pred = det.predict(X_test)\n",
        "acc = accuracy_score(y_test, y_pred)\n",
        "print(\"Test Accuracy of CascadeForestClassifier = {:.6f} %\".format(acc * 100))\n",
        " # Matrix de confusion\n",
        "from sklearn.metrics import classification_report, confusion_matrix\n",
        "print(confusion_matrix(y_test,y_pred))\n",
        "print('\\n')\n",
        "print(classification_report(y_test,y_pred))"
      ]
    },
    {
      "cell_type": "code",
      "source": [
        "    # Load multi-class classification dataset\n",
        "    \n",
        "    det = CascadeForestClassifier()\n",
        "\n",
        "    # Encode the non-numeric columns\n",
        "    X = OrdinalEncoder().fit_transform(X)\n",
        "    y = LabelEncoder().fit_transform(y)\n",
        "\n",
        "    # Create the train and test data\n",
        "    X_train, X_test, y_train, y_test = train_test_split(X, y, random_state=42)\n",
        "\n",
        "    # Instaniate the classification model and visualizer\n",
        "   \n",
        "    visualizer = ROCAUC(det, classes=['DoS', 'DoSS', 'DoSSS', 'SDoS'])\n",
        "\n",
        "    visualizer.fit(X_train, y_train)        # Fit the training data to the visualizer\n",
        "    visualizer.score(X_test, y_test)        # Evaluate the model on the test data\n",
        "    visualizer.show()                       # Finalize and render the figure"
      ],
      "metadata": {
        "id": "defEDBlmQG9_"
      },
      "execution_count": null,
      "outputs": []
    }
  ],
  "metadata": {
    "kernelspec": {
      "display_name": "Python 3 (ipykernel)",
      "language": "python",
      "name": "python3"
    },
    "language_info": {
      "codemirror_mode": {
        "name": "ipython",
        "version": 3
      },
      "file_extension": ".py",
      "mimetype": "text/x-python",
      "name": "python",
      "nbconvert_exporter": "python",
      "pygments_lexer": "ipython3",
      "version": "3.9.7"
    },
    "colab": {
      "provenance": []
    }
  },
  "nbformat": 4,
  "nbformat_minor": 0
}