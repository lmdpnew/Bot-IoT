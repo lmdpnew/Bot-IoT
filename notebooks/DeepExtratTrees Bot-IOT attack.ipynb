{
  "cells": [
    {
      "cell_type": "code",
      "execution_count": 90,
      "metadata": {
        "id": "bfp5Rv_27csC"
      },
      "outputs": [],
      "source": [
        "# imports \n",
        "import numpy as np\n",
        "from math import sqrt \n",
        "from pprint import pprint\n",
        "from numpy import array\n",
        "import pandas as pd\n",
        "from time import time\n",
        "\n",
        "\n",
        "import matplotlib.pyplot as plt\n",
        "\n",
        "from sklearn import svm, datasets\n",
        "from sklearn.model_selection import train_test_split\n",
        "from sklearn.metrics import ConfusionMatrixDisplay\n",
        "\n",
        "\n",
        "from sklearn.preprocessing import LabelEncoder, StandardScaler"
      ]
    },
    {
      "cell_type": "code",
      "execution_count": 91,
      "metadata": {
        "colab": {
          "base_uri": "https://localhost:8080/"
        },
        "id": "3HjDu0Yt7csH",
        "outputId": "ca195562-bea4-4871-812a-d15b4dfee337"
      },
      "outputs": [
        {
          "output_type": "stream",
          "name": "stdout",
          "text": [
            "Drive already mounted at /content/drive/; to attempt to forcibly remount, call drive.mount(\"/content/drive/\", force_remount=True).\n"
          ]
        }
      ],
      "source": [
        "import warnings\n",
        "warnings.filterwarnings('ignore')\n",
        "\n",
        "from google.colab import drive\n",
        "drive.mount('/content/drive/')"
      ]
    },
    {
      "cell_type": "code",
      "execution_count": 92,
      "metadata": {
        "colab": {
          "base_uri": "https://localhost:8080/",
          "height": 270
        },
        "id": "lHK8s5nb7csI",
        "outputId": "892762b4-3178-4c35-c600-9ecbd50f3f6c"
      },
      "outputs": [
        {
          "output_type": "execute_result",
          "data": {
            "text/plain": [
              "   pkSeqID proto            saddr  sport            daddr dport  seq  \\\n",
              "0        1   tcp  192.168.100.147  49960    192.168.100.7    80    9   \n",
              "1        2   arp    192.168.100.7     -1  192.168.100.147    -1   10   \n",
              "2        3   tcp  192.168.100.147  49962    192.168.100.7    80   11   \n",
              "3        4   tcp  192.168.100.147  49964    192.168.100.7    80   12   \n",
              "4        5   tcp  192.168.100.147  49966    192.168.100.7    80   13   \n",
              "\n",
              "     stddev  N_IN_Conn_P_SrcIP       min  state_number      mean  \\\n",
              "0  0.068909                 75  0.000000             1  0.068909   \n",
              "1  0.000000                  2  0.000131             2  0.000131   \n",
              "2  0.064494                 75  0.000000             1  0.064494   \n",
              "3  0.064189                 75  0.000000             1  0.064189   \n",
              "4  0.063887                 75  0.000000             1  0.063887   \n",
              "\n",
              "   N_IN_Conn_P_DstIP      drate     srate       max  attack category  \\\n",
              "0                 96  14.511893  0.566862  0.137818       1      DoS   \n",
              "1                  1   0.000000  0.000000  0.000131       1      DoS   \n",
              "2                 96  15.505319  0.567549  0.128988       1      DoS   \n",
              "3                 96  15.578993  0.567570  0.128378       1      DoS   \n",
              "4                 96  15.652637  0.567630  0.127774       1      DoS   \n",
              "\n",
              "  subcategory  \n",
              "0        HTTP  \n",
              "1        HTTP  \n",
              "2        HTTP  \n",
              "3        HTTP  \n",
              "4        HTTP  "
            ],
            "text/html": [
              "\n",
              "  <div id=\"df-2c83d75a-8f85-4845-ae4b-bb972723bcd0\">\n",
              "    <div class=\"colab-df-container\">\n",
              "      <div>\n",
              "<style scoped>\n",
              "    .dataframe tbody tr th:only-of-type {\n",
              "        vertical-align: middle;\n",
              "    }\n",
              "\n",
              "    .dataframe tbody tr th {\n",
              "        vertical-align: top;\n",
              "    }\n",
              "\n",
              "    .dataframe thead th {\n",
              "        text-align: right;\n",
              "    }\n",
              "</style>\n",
              "<table border=\"1\" class=\"dataframe\">\n",
              "  <thead>\n",
              "    <tr style=\"text-align: right;\">\n",
              "      <th></th>\n",
              "      <th>pkSeqID</th>\n",
              "      <th>proto</th>\n",
              "      <th>saddr</th>\n",
              "      <th>sport</th>\n",
              "      <th>daddr</th>\n",
              "      <th>dport</th>\n",
              "      <th>seq</th>\n",
              "      <th>stddev</th>\n",
              "      <th>N_IN_Conn_P_SrcIP</th>\n",
              "      <th>min</th>\n",
              "      <th>state_number</th>\n",
              "      <th>mean</th>\n",
              "      <th>N_IN_Conn_P_DstIP</th>\n",
              "      <th>drate</th>\n",
              "      <th>srate</th>\n",
              "      <th>max</th>\n",
              "      <th>attack</th>\n",
              "      <th>category</th>\n",
              "      <th>subcategory</th>\n",
              "    </tr>\n",
              "  </thead>\n",
              "  <tbody>\n",
              "    <tr>\n",
              "      <th>0</th>\n",
              "      <td>1</td>\n",
              "      <td>tcp</td>\n",
              "      <td>192.168.100.147</td>\n",
              "      <td>49960</td>\n",
              "      <td>192.168.100.7</td>\n",
              "      <td>80</td>\n",
              "      <td>9</td>\n",
              "      <td>0.068909</td>\n",
              "      <td>75</td>\n",
              "      <td>0.000000</td>\n",
              "      <td>1</td>\n",
              "      <td>0.068909</td>\n",
              "      <td>96</td>\n",
              "      <td>14.511893</td>\n",
              "      <td>0.566862</td>\n",
              "      <td>0.137818</td>\n",
              "      <td>1</td>\n",
              "      <td>DoS</td>\n",
              "      <td>HTTP</td>\n",
              "    </tr>\n",
              "    <tr>\n",
              "      <th>1</th>\n",
              "      <td>2</td>\n",
              "      <td>arp</td>\n",
              "      <td>192.168.100.7</td>\n",
              "      <td>-1</td>\n",
              "      <td>192.168.100.147</td>\n",
              "      <td>-1</td>\n",
              "      <td>10</td>\n",
              "      <td>0.000000</td>\n",
              "      <td>2</td>\n",
              "      <td>0.000131</td>\n",
              "      <td>2</td>\n",
              "      <td>0.000131</td>\n",
              "      <td>1</td>\n",
              "      <td>0.000000</td>\n",
              "      <td>0.000000</td>\n",
              "      <td>0.000131</td>\n",
              "      <td>1</td>\n",
              "      <td>DoS</td>\n",
              "      <td>HTTP</td>\n",
              "    </tr>\n",
              "    <tr>\n",
              "      <th>2</th>\n",
              "      <td>3</td>\n",
              "      <td>tcp</td>\n",
              "      <td>192.168.100.147</td>\n",
              "      <td>49962</td>\n",
              "      <td>192.168.100.7</td>\n",
              "      <td>80</td>\n",
              "      <td>11</td>\n",
              "      <td>0.064494</td>\n",
              "      <td>75</td>\n",
              "      <td>0.000000</td>\n",
              "      <td>1</td>\n",
              "      <td>0.064494</td>\n",
              "      <td>96</td>\n",
              "      <td>15.505319</td>\n",
              "      <td>0.567549</td>\n",
              "      <td>0.128988</td>\n",
              "      <td>1</td>\n",
              "      <td>DoS</td>\n",
              "      <td>HTTP</td>\n",
              "    </tr>\n",
              "    <tr>\n",
              "      <th>3</th>\n",
              "      <td>4</td>\n",
              "      <td>tcp</td>\n",
              "      <td>192.168.100.147</td>\n",
              "      <td>49964</td>\n",
              "      <td>192.168.100.7</td>\n",
              "      <td>80</td>\n",
              "      <td>12</td>\n",
              "      <td>0.064189</td>\n",
              "      <td>75</td>\n",
              "      <td>0.000000</td>\n",
              "      <td>1</td>\n",
              "      <td>0.064189</td>\n",
              "      <td>96</td>\n",
              "      <td>15.578993</td>\n",
              "      <td>0.567570</td>\n",
              "      <td>0.128378</td>\n",
              "      <td>1</td>\n",
              "      <td>DoS</td>\n",
              "      <td>HTTP</td>\n",
              "    </tr>\n",
              "    <tr>\n",
              "      <th>4</th>\n",
              "      <td>5</td>\n",
              "      <td>tcp</td>\n",
              "      <td>192.168.100.147</td>\n",
              "      <td>49966</td>\n",
              "      <td>192.168.100.7</td>\n",
              "      <td>80</td>\n",
              "      <td>13</td>\n",
              "      <td>0.063887</td>\n",
              "      <td>75</td>\n",
              "      <td>0.000000</td>\n",
              "      <td>1</td>\n",
              "      <td>0.063887</td>\n",
              "      <td>96</td>\n",
              "      <td>15.652637</td>\n",
              "      <td>0.567630</td>\n",
              "      <td>0.127774</td>\n",
              "      <td>1</td>\n",
              "      <td>DoS</td>\n",
              "      <td>HTTP</td>\n",
              "    </tr>\n",
              "  </tbody>\n",
              "</table>\n",
              "</div>\n",
              "      <button class=\"colab-df-convert\" onclick=\"convertToInteractive('df-2c83d75a-8f85-4845-ae4b-bb972723bcd0')\"\n",
              "              title=\"Convert this dataframe to an interactive table.\"\n",
              "              style=\"display:none;\">\n",
              "        \n",
              "  <svg xmlns=\"http://www.w3.org/2000/svg\" height=\"24px\"viewBox=\"0 0 24 24\"\n",
              "       width=\"24px\">\n",
              "    <path d=\"M0 0h24v24H0V0z\" fill=\"none\"/>\n",
              "    <path d=\"M18.56 5.44l.94 2.06.94-2.06 2.06-.94-2.06-.94-.94-2.06-.94 2.06-2.06.94zm-11 1L8.5 8.5l.94-2.06 2.06-.94-2.06-.94L8.5 2.5l-.94 2.06-2.06.94zm10 10l.94 2.06.94-2.06 2.06-.94-2.06-.94-.94-2.06-.94 2.06-2.06.94z\"/><path d=\"M17.41 7.96l-1.37-1.37c-.4-.4-.92-.59-1.43-.59-.52 0-1.04.2-1.43.59L10.3 9.45l-7.72 7.72c-.78.78-.78 2.05 0 2.83L4 21.41c.39.39.9.59 1.41.59.51 0 1.02-.2 1.41-.59l7.78-7.78 2.81-2.81c.8-.78.8-2.07 0-2.86zM5.41 20L4 18.59l7.72-7.72 1.47 1.35L5.41 20z\"/>\n",
              "  </svg>\n",
              "      </button>\n",
              "      \n",
              "  <style>\n",
              "    .colab-df-container {\n",
              "      display:flex;\n",
              "      flex-wrap:wrap;\n",
              "      gap: 12px;\n",
              "    }\n",
              "\n",
              "    .colab-df-convert {\n",
              "      background-color: #E8F0FE;\n",
              "      border: none;\n",
              "      border-radius: 50%;\n",
              "      cursor: pointer;\n",
              "      display: none;\n",
              "      fill: #1967D2;\n",
              "      height: 32px;\n",
              "      padding: 0 0 0 0;\n",
              "      width: 32px;\n",
              "    }\n",
              "\n",
              "    .colab-df-convert:hover {\n",
              "      background-color: #E2EBFA;\n",
              "      box-shadow: 0px 1px 2px rgba(60, 64, 67, 0.3), 0px 1px 3px 1px rgba(60, 64, 67, 0.15);\n",
              "      fill: #174EA6;\n",
              "    }\n",
              "\n",
              "    [theme=dark] .colab-df-convert {\n",
              "      background-color: #3B4455;\n",
              "      fill: #D2E3FC;\n",
              "    }\n",
              "\n",
              "    [theme=dark] .colab-df-convert:hover {\n",
              "      background-color: #434B5C;\n",
              "      box-shadow: 0px 1px 3px 1px rgba(0, 0, 0, 0.15);\n",
              "      filter: drop-shadow(0px 1px 2px rgba(0, 0, 0, 0.3));\n",
              "      fill: #FFFFFF;\n",
              "    }\n",
              "  </style>\n",
              "\n",
              "      <script>\n",
              "        const buttonEl =\n",
              "          document.querySelector('#df-2c83d75a-8f85-4845-ae4b-bb972723bcd0 button.colab-df-convert');\n",
              "        buttonEl.style.display =\n",
              "          google.colab.kernel.accessAllowed ? 'block' : 'none';\n",
              "\n",
              "        async function convertToInteractive(key) {\n",
              "          const element = document.querySelector('#df-2c83d75a-8f85-4845-ae4b-bb972723bcd0');\n",
              "          const dataTable =\n",
              "            await google.colab.kernel.invokeFunction('convertToInteractive',\n",
              "                                                     [key], {});\n",
              "          if (!dataTable) return;\n",
              "\n",
              "          const docLinkHtml = 'Like what you see? Visit the ' +\n",
              "            '<a target=\"_blank\" href=https://colab.research.google.com/notebooks/data_table.ipynb>data table notebook</a>'\n",
              "            + ' to learn more about interactive tables.';\n",
              "          element.innerHTML = '';\n",
              "          dataTable['output_type'] = 'display_data';\n",
              "          await google.colab.output.renderOutput(dataTable, element);\n",
              "          const docLink = document.createElement('div');\n",
              "          docLink.innerHTML = docLinkHtml;\n",
              "          element.appendChild(docLink);\n",
              "        }\n",
              "      </script>\n",
              "    </div>\n",
              "  </div>\n",
              "  "
            ]
          },
          "metadata": {},
          "execution_count": 92
        }
      ],
      "source": [
        "# load data\n",
        "df=pd.read_csv('/content/drive/MyDrive/data/UNSW_2018_IoT_Botnet_Final_10_Best.csv',sep=\";\")  \n",
        "\n",
        "del df['Unnamed: 0']\n",
        "#df['outlier'] = df.outlier.apply(lambda label: 1 if label == \"'yes'\" else 0)\n",
        "\n",
        "df.head()"
      ]
    },
    {
      "cell_type": "code",
      "execution_count": 93,
      "metadata": {
        "colab": {
          "base_uri": "https://localhost:8080/"
        },
        "id": "MEKe4HL17csJ",
        "outputId": "057b06f1-726f-41af-e92d-c887df0de6b9"
      },
      "outputs": [
        {
          "output_type": "execute_result",
          "data": {
            "text/plain": [
              "(3668522, 19)"
            ]
          },
          "metadata": {},
          "execution_count": 93
        }
      ],
      "source": [
        "df = df.sample(frac=1)\n",
        "df.shape"
      ]
    },
    {
      "cell_type": "code",
      "source": [
        "pd.value_counts(df.attack)"
      ],
      "metadata": {
        "id": "pwm8YizFLQPJ",
        "outputId": "79ce34e4-ec74-48f4-9110-20b768b55518",
        "colab": {
          "base_uri": "https://localhost:8080/"
        }
      },
      "execution_count": 94,
      "outputs": [
        {
          "output_type": "execute_result",
          "data": {
            "text/plain": [
              "1    3668045\n",
              "0        477\n",
              "Name: attack, dtype: int64"
            ]
          },
          "metadata": {},
          "execution_count": 94
        }
      ]
    },
    {
      "cell_type": "code",
      "source": [
        "#df = df.iloc[:10000]"
      ],
      "metadata": {
        "id": "dd7OKF0FAOK4"
      },
      "execution_count": 95,
      "outputs": []
    },
    {
      "cell_type": "code",
      "source": [
        "pd.value_counts(df.attack)"
      ],
      "metadata": {
        "id": "DHVNDKHmNgqp",
        "outputId": "f688629b-513e-40c4-cd66-959529570131",
        "colab": {
          "base_uri": "https://localhost:8080/"
        }
      },
      "execution_count": 96,
      "outputs": [
        {
          "output_type": "execute_result",
          "data": {
            "text/plain": [
              "1    3668045\n",
              "0        477\n",
              "Name: attack, dtype: int64"
            ]
          },
          "metadata": {},
          "execution_count": 96
        }
      ]
    },
    {
      "cell_type": "code",
      "execution_count": 97,
      "metadata": {
        "colab": {
          "base_uri": "https://localhost:8080/"
        },
        "id": "n6R4-gY27csJ",
        "outputId": "665f3464-f022-47ed-bfb2-d7602a355353"
      },
      "outputs": [
        {
          "output_type": "stream",
          "name": "stdout",
          "text": [
            "<class 'pandas.core.frame.DataFrame'>\n",
            "RangeIndex: 3668522 entries, 0 to 3668521\n",
            "Data columns (total 19 columns):\n",
            " #   Column             Dtype  \n",
            "---  ------             -----  \n",
            " 0   pkSeqID            int64  \n",
            " 1   proto              object \n",
            " 2   saddr              object \n",
            " 3   sport              object \n",
            " 4   daddr              object \n",
            " 5   dport              object \n",
            " 6   seq                int64  \n",
            " 7   stddev             float64\n",
            " 8   N_IN_Conn_P_SrcIP  int64  \n",
            " 9   min                float64\n",
            " 10  state_number       int64  \n",
            " 11  mean               float64\n",
            " 12  N_IN_Conn_P_DstIP  int64  \n",
            " 13  drate              float64\n",
            " 14  srate              float64\n",
            " 15  max                float64\n",
            " 16  attack             int64  \n",
            " 17  category           object \n",
            " 18  subcategory        object \n",
            "dtypes: float64(6), int64(6), object(7)\n",
            "memory usage: 531.8+ MB\n"
          ]
        }
      ],
      "source": [
        "df.columns = df.columns.to_series().apply(lambda x: x.strip())\n",
        "df = df.reset_index(drop=True)\n",
        "\n",
        "# General Information about the data\n",
        "df.info()"
      ]
    },
    {
      "cell_type": "markdown",
      "metadata": {
        "id": "7KldX4Tq7csK"
      },
      "source": [
        "# Exploratory Data Analysis"
      ]
    },
    {
      "cell_type": "code",
      "execution_count": 98,
      "metadata": {
        "colab": {
          "base_uri": "https://localhost:8080/",
          "height": 344
        },
        "id": "YqWKaINF7csL",
        "outputId": "56055a2f-bdfa-45a5-adee-d0923b0211e6"
      },
      "outputs": [
        {
          "output_type": "execute_result",
          "data": {
            "text/plain": [
              "            pkSeqID           seq        stddev  N_IN_Conn_P_SrcIP  \\\n",
              "count  3.668522e+06  3.668522e+06  3.668522e+06       3.668522e+06   \n",
              "mean   1.834262e+06  1.213204e+05  8.871499e-01       8.253848e+01   \n",
              "std    1.059011e+06  7.579428e+04  8.037139e-01       2.439739e+01   \n",
              "min    1.000000e+00  1.000000e+00  0.000000e+00       1.000000e+00   \n",
              "25%    9.171312e+05  5.487600e+04  3.001900e-02       6.900000e+01   \n",
              "50%    1.834262e+06  1.177690e+05  7.938960e-01       1.000000e+02   \n",
              "75%    2.751392e+06  1.849300e+05  1.745296e+00       1.000000e+02   \n",
              "max    3.668522e+06  2.622120e+05  2.496763e+00       1.000000e+02   \n",
              "\n",
              "                min  state_number          mean  N_IN_Conn_P_DstIP  \\\n",
              "count  3.668522e+06  3.668522e+06  3.668522e+06       3.668522e+06   \n",
              "mean   1.017540e+00  3.134390e+00  2.231063e+00       9.245168e+01   \n",
              "std    1.483688e+00  1.186971e+00  1.517728e+00       1.817643e+01   \n",
              "min    0.000000e+00  1.000000e+00  0.000000e+00       1.000000e+00   \n",
              "25%    0.000000e+00  3.000000e+00  1.819670e-01       1.000000e+02   \n",
              "50%    0.000000e+00  4.000000e+00  2.690125e+00       1.000000e+02   \n",
              "75%    2.151138e+00  4.000000e+00  3.565203e+00       1.000000e+02   \n",
              "max    4.980471e+00  1.100000e+01  4.981882e+00       1.000000e+02   \n",
              "\n",
              "              drate         srate           max        attack  \n",
              "count  3.668522e+06  3.668522e+06  3.668522e+06  3.668522e+06  \n",
              "mean   4.455046e-01  2.955111e+00  3.020015e+00  9.998700e-01  \n",
              "std    6.028863e+01  7.245425e+02  1.860877e+00  1.140212e-02  \n",
              "min    0.000000e+00  0.000000e+00  0.000000e+00  0.000000e+00  \n",
              "25%    0.000000e+00  1.559700e-01  2.806072e-01  1.000000e+00  \n",
              "50%    0.000000e+00  2.837830e-01  4.009111e+00  1.000000e+00  \n",
              "75%    0.000000e+00  4.882010e-01  4.293582e+00  1.000000e+00  \n",
              "max    5.882353e+04  1.000000e+06  4.999999e+00  1.000000e+00  "
            ],
            "text/html": [
              "\n",
              "  <div id=\"df-2fa8f3e2-e677-4d35-ab0e-2082e8f7bdc9\">\n",
              "    <div class=\"colab-df-container\">\n",
              "      <div>\n",
              "<style scoped>\n",
              "    .dataframe tbody tr th:only-of-type {\n",
              "        vertical-align: middle;\n",
              "    }\n",
              "\n",
              "    .dataframe tbody tr th {\n",
              "        vertical-align: top;\n",
              "    }\n",
              "\n",
              "    .dataframe thead th {\n",
              "        text-align: right;\n",
              "    }\n",
              "</style>\n",
              "<table border=\"1\" class=\"dataframe\">\n",
              "  <thead>\n",
              "    <tr style=\"text-align: right;\">\n",
              "      <th></th>\n",
              "      <th>pkSeqID</th>\n",
              "      <th>seq</th>\n",
              "      <th>stddev</th>\n",
              "      <th>N_IN_Conn_P_SrcIP</th>\n",
              "      <th>min</th>\n",
              "      <th>state_number</th>\n",
              "      <th>mean</th>\n",
              "      <th>N_IN_Conn_P_DstIP</th>\n",
              "      <th>drate</th>\n",
              "      <th>srate</th>\n",
              "      <th>max</th>\n",
              "      <th>attack</th>\n",
              "    </tr>\n",
              "  </thead>\n",
              "  <tbody>\n",
              "    <tr>\n",
              "      <th>count</th>\n",
              "      <td>3.668522e+06</td>\n",
              "      <td>3.668522e+06</td>\n",
              "      <td>3.668522e+06</td>\n",
              "      <td>3.668522e+06</td>\n",
              "      <td>3.668522e+06</td>\n",
              "      <td>3.668522e+06</td>\n",
              "      <td>3.668522e+06</td>\n",
              "      <td>3.668522e+06</td>\n",
              "      <td>3.668522e+06</td>\n",
              "      <td>3.668522e+06</td>\n",
              "      <td>3.668522e+06</td>\n",
              "      <td>3.668522e+06</td>\n",
              "    </tr>\n",
              "    <tr>\n",
              "      <th>mean</th>\n",
              "      <td>1.834262e+06</td>\n",
              "      <td>1.213204e+05</td>\n",
              "      <td>8.871499e-01</td>\n",
              "      <td>8.253848e+01</td>\n",
              "      <td>1.017540e+00</td>\n",
              "      <td>3.134390e+00</td>\n",
              "      <td>2.231063e+00</td>\n",
              "      <td>9.245168e+01</td>\n",
              "      <td>4.455046e-01</td>\n",
              "      <td>2.955111e+00</td>\n",
              "      <td>3.020015e+00</td>\n",
              "      <td>9.998700e-01</td>\n",
              "    </tr>\n",
              "    <tr>\n",
              "      <th>std</th>\n",
              "      <td>1.059011e+06</td>\n",
              "      <td>7.579428e+04</td>\n",
              "      <td>8.037139e-01</td>\n",
              "      <td>2.439739e+01</td>\n",
              "      <td>1.483688e+00</td>\n",
              "      <td>1.186971e+00</td>\n",
              "      <td>1.517728e+00</td>\n",
              "      <td>1.817643e+01</td>\n",
              "      <td>6.028863e+01</td>\n",
              "      <td>7.245425e+02</td>\n",
              "      <td>1.860877e+00</td>\n",
              "      <td>1.140212e-02</td>\n",
              "    </tr>\n",
              "    <tr>\n",
              "      <th>min</th>\n",
              "      <td>1.000000e+00</td>\n",
              "      <td>1.000000e+00</td>\n",
              "      <td>0.000000e+00</td>\n",
              "      <td>1.000000e+00</td>\n",
              "      <td>0.000000e+00</td>\n",
              "      <td>1.000000e+00</td>\n",
              "      <td>0.000000e+00</td>\n",
              "      <td>1.000000e+00</td>\n",
              "      <td>0.000000e+00</td>\n",
              "      <td>0.000000e+00</td>\n",
              "      <td>0.000000e+00</td>\n",
              "      <td>0.000000e+00</td>\n",
              "    </tr>\n",
              "    <tr>\n",
              "      <th>25%</th>\n",
              "      <td>9.171312e+05</td>\n",
              "      <td>5.487600e+04</td>\n",
              "      <td>3.001900e-02</td>\n",
              "      <td>6.900000e+01</td>\n",
              "      <td>0.000000e+00</td>\n",
              "      <td>3.000000e+00</td>\n",
              "      <td>1.819670e-01</td>\n",
              "      <td>1.000000e+02</td>\n",
              "      <td>0.000000e+00</td>\n",
              "      <td>1.559700e-01</td>\n",
              "      <td>2.806072e-01</td>\n",
              "      <td>1.000000e+00</td>\n",
              "    </tr>\n",
              "    <tr>\n",
              "      <th>50%</th>\n",
              "      <td>1.834262e+06</td>\n",
              "      <td>1.177690e+05</td>\n",
              "      <td>7.938960e-01</td>\n",
              "      <td>1.000000e+02</td>\n",
              "      <td>0.000000e+00</td>\n",
              "      <td>4.000000e+00</td>\n",
              "      <td>2.690125e+00</td>\n",
              "      <td>1.000000e+02</td>\n",
              "      <td>0.000000e+00</td>\n",
              "      <td>2.837830e-01</td>\n",
              "      <td>4.009111e+00</td>\n",
              "      <td>1.000000e+00</td>\n",
              "    </tr>\n",
              "    <tr>\n",
              "      <th>75%</th>\n",
              "      <td>2.751392e+06</td>\n",
              "      <td>1.849300e+05</td>\n",
              "      <td>1.745296e+00</td>\n",
              "      <td>1.000000e+02</td>\n",
              "      <td>2.151138e+00</td>\n",
              "      <td>4.000000e+00</td>\n",
              "      <td>3.565203e+00</td>\n",
              "      <td>1.000000e+02</td>\n",
              "      <td>0.000000e+00</td>\n",
              "      <td>4.882010e-01</td>\n",
              "      <td>4.293582e+00</td>\n",
              "      <td>1.000000e+00</td>\n",
              "    </tr>\n",
              "    <tr>\n",
              "      <th>max</th>\n",
              "      <td>3.668522e+06</td>\n",
              "      <td>2.622120e+05</td>\n",
              "      <td>2.496763e+00</td>\n",
              "      <td>1.000000e+02</td>\n",
              "      <td>4.980471e+00</td>\n",
              "      <td>1.100000e+01</td>\n",
              "      <td>4.981882e+00</td>\n",
              "      <td>1.000000e+02</td>\n",
              "      <td>5.882353e+04</td>\n",
              "      <td>1.000000e+06</td>\n",
              "      <td>4.999999e+00</td>\n",
              "      <td>1.000000e+00</td>\n",
              "    </tr>\n",
              "  </tbody>\n",
              "</table>\n",
              "</div>\n",
              "      <button class=\"colab-df-convert\" onclick=\"convertToInteractive('df-2fa8f3e2-e677-4d35-ab0e-2082e8f7bdc9')\"\n",
              "              title=\"Convert this dataframe to an interactive table.\"\n",
              "              style=\"display:none;\">\n",
              "        \n",
              "  <svg xmlns=\"http://www.w3.org/2000/svg\" height=\"24px\"viewBox=\"0 0 24 24\"\n",
              "       width=\"24px\">\n",
              "    <path d=\"M0 0h24v24H0V0z\" fill=\"none\"/>\n",
              "    <path d=\"M18.56 5.44l.94 2.06.94-2.06 2.06-.94-2.06-.94-.94-2.06-.94 2.06-2.06.94zm-11 1L8.5 8.5l.94-2.06 2.06-.94-2.06-.94L8.5 2.5l-.94 2.06-2.06.94zm10 10l.94 2.06.94-2.06 2.06-.94-2.06-.94-.94-2.06-.94 2.06-2.06.94z\"/><path d=\"M17.41 7.96l-1.37-1.37c-.4-.4-.92-.59-1.43-.59-.52 0-1.04.2-1.43.59L10.3 9.45l-7.72 7.72c-.78.78-.78 2.05 0 2.83L4 21.41c.39.39.9.59 1.41.59.51 0 1.02-.2 1.41-.59l7.78-7.78 2.81-2.81c.8-.78.8-2.07 0-2.86zM5.41 20L4 18.59l7.72-7.72 1.47 1.35L5.41 20z\"/>\n",
              "  </svg>\n",
              "      </button>\n",
              "      \n",
              "  <style>\n",
              "    .colab-df-container {\n",
              "      display:flex;\n",
              "      flex-wrap:wrap;\n",
              "      gap: 12px;\n",
              "    }\n",
              "\n",
              "    .colab-df-convert {\n",
              "      background-color: #E8F0FE;\n",
              "      border: none;\n",
              "      border-radius: 50%;\n",
              "      cursor: pointer;\n",
              "      display: none;\n",
              "      fill: #1967D2;\n",
              "      height: 32px;\n",
              "      padding: 0 0 0 0;\n",
              "      width: 32px;\n",
              "    }\n",
              "\n",
              "    .colab-df-convert:hover {\n",
              "      background-color: #E2EBFA;\n",
              "      box-shadow: 0px 1px 2px rgba(60, 64, 67, 0.3), 0px 1px 3px 1px rgba(60, 64, 67, 0.15);\n",
              "      fill: #174EA6;\n",
              "    }\n",
              "\n",
              "    [theme=dark] .colab-df-convert {\n",
              "      background-color: #3B4455;\n",
              "      fill: #D2E3FC;\n",
              "    }\n",
              "\n",
              "    [theme=dark] .colab-df-convert:hover {\n",
              "      background-color: #434B5C;\n",
              "      box-shadow: 0px 1px 3px 1px rgba(0, 0, 0, 0.15);\n",
              "      filter: drop-shadow(0px 1px 2px rgba(0, 0, 0, 0.3));\n",
              "      fill: #FFFFFF;\n",
              "    }\n",
              "  </style>\n",
              "\n",
              "      <script>\n",
              "        const buttonEl =\n",
              "          document.querySelector('#df-2fa8f3e2-e677-4d35-ab0e-2082e8f7bdc9 button.colab-df-convert');\n",
              "        buttonEl.style.display =\n",
              "          google.colab.kernel.accessAllowed ? 'block' : 'none';\n",
              "\n",
              "        async function convertToInteractive(key) {\n",
              "          const element = document.querySelector('#df-2fa8f3e2-e677-4d35-ab0e-2082e8f7bdc9');\n",
              "          const dataTable =\n",
              "            await google.colab.kernel.invokeFunction('convertToInteractive',\n",
              "                                                     [key], {});\n",
              "          if (!dataTable) return;\n",
              "\n",
              "          const docLinkHtml = 'Like what you see? Visit the ' +\n",
              "            '<a target=\"_blank\" href=https://colab.research.google.com/notebooks/data_table.ipynb>data table notebook</a>'\n",
              "            + ' to learn more about interactive tables.';\n",
              "          element.innerHTML = '';\n",
              "          dataTable['output_type'] = 'display_data';\n",
              "          await google.colab.output.renderOutput(dataTable, element);\n",
              "          const docLink = document.createElement('div');\n",
              "          docLink.innerHTML = docLinkHtml;\n",
              "          element.appendChild(docLink);\n",
              "        }\n",
              "      </script>\n",
              "    </div>\n",
              "  </div>\n",
              "  "
            ]
          },
          "metadata": {},
          "execution_count": 98
        }
      ],
      "source": [
        "df.describe()"
      ]
    },
    {
      "cell_type": "markdown",
      "metadata": {
        "id": "y-gVuE3i7csM"
      },
      "source": [
        "# Extracting 10 best features"
      ]
    },
    {
      "cell_type": "code",
      "execution_count": 99,
      "metadata": {
        "id": "d4-VZnNZ7csM"
      },
      "outputs": [],
      "source": [
        "ten_best_features = df[['seq','stddev','N_IN_Conn_P_SrcIP', 'min', 'state_number', 'mean', 'N_IN_Conn_P_DstIP',\n",
        "       'drate', 'srate', 'max','attack']]\n",
        "#target_features = df[['attack','category','subcategory']]"
      ]
    },
    {
      "cell_type": "markdown",
      "metadata": {
        "id": "P1vpeDwl7csN"
      },
      "source": [
        "# Data Preprocessing\n"
      ]
    },
    {
      "cell_type": "code",
      "execution_count": 100,
      "metadata": {
        "id": "RBC-lWRt7csO"
      },
      "outputs": [],
      "source": [
        "# Label Encoding the target columns\n",
        "\n",
        "#le = LabelEncoder()\n",
        "#target_features['category'] = le.fit_transform(target_features['category'])\n",
        "#target_features['subcategory'] = le.fit_transform(target_features['subcategory'])\n",
        "\n",
        "#target_features.head()"
      ]
    },
    {
      "cell_type": "code",
      "execution_count": 101,
      "metadata": {
        "id": "wT5VkQox7csP"
      },
      "outputs": [],
      "source": [
        "from sklearn.model_selection import train_test_split\n",
        "\n",
        "ten_best_features = ten_best_features.values\n",
        "\n",
        "y = ten_best_features[:,10]\n",
        "X = ten_best_features[:,0:10]\n",
        "\n",
        "# Train-test Split\n",
        "X_train, X_test, y_train, y_test = train_test_split(X,y,test_size=0.3)\n",
        "\n",
        "\n",
        "# Scaling the data\n",
        "sc = StandardScaler()\n",
        "X_train = sc.fit_transform(X_train)\n",
        "X_test = sc.transform(X_test)"
      ]
    },
    {
      "cell_type": "code",
      "execution_count": 102,
      "metadata": {
        "colab": {
          "base_uri": "https://localhost:8080/"
        },
        "id": "BPlYLFiI7csP",
        "outputId": "29b10bd1-2990-49c0-f8aa-af829011ab10"
      },
      "outputs": [
        {
          "output_type": "execute_result",
          "data": {
            "text/plain": [
              "2"
            ]
          },
          "metadata": {},
          "execution_count": 102
        }
      ],
      "source": [
        "# number of class\n",
        "len(np.unique(y_train))"
      ]
    },
    {
      "cell_type": "markdown",
      "metadata": {
        "id": "vI68WB3-7csP"
      },
      "source": [
        "# Extratrees Deep"
      ]
    },
    {
      "cell_type": "code",
      "source": [
        "# Insert the directory\n",
        "import sys\n",
        "sys.path.insert(0,'/content/drive/My Drive/')"
      ],
      "metadata": {
        "id": "Tjb_7L3L91cO"
      },
      "execution_count": 103,
      "outputs": []
    },
    {
      "cell_type": "code",
      "execution_count": 104,
      "metadata": {
        "id": "XzepPO8d7csP"
      },
      "outputs": [],
      "source": [
        "# Extratrees Deep\n",
        "import argparse\n",
        "import sys\n",
        "import pickle\n",
        "from sklearn.metrics import accuracy_score\n",
        "sys.path.insert(0, \"lib\")\n",
        "from gcforest.gcforest import GCForest\n",
        "from gcforest.utils.config_utils import load_json\n",
        "config = load_json(\"/content/drive/My Drive/examples/attack.json\")\n",
        "gc = GCForest(config)"
      ]
    },
    {
      "cell_type": "code",
      "execution_count": 105,
      "metadata": {
        "colab": {
          "base_uri": "https://localhost:8080/"
        },
        "id": "VU6dqEjo7csQ",
        "outputId": "b4298758-40c9-46f4-89d5-26e11f1302d8"
      },
      "outputs": [
        {
          "output_type": "stream",
          "name": "stderr",
          "text": [
            "INFO:gcforest.cascade.cascade_classifier:X_groups_train.shape=[(2567965, 10)],y_train.shape=(2567965,),X_groups_test.shape=[(1100557, 10)],y_test.shape=(1100557,)\n",
            "INFO:gcforest.cascade.cascade_classifier:group_dims=[10]\n",
            "INFO:gcforest.cascade.cascade_classifier:group_starts=[0]\n",
            "INFO:gcforest.cascade.cascade_classifier:group_ends=[10]\n",
            "INFO:gcforest.cascade.cascade_classifier:X_train.shape=(2567965, 10),X_test.shape=(1100557, 10)\n",
            "INFO:gcforest.cascade.cascade_classifier:[layer=0] look_indexs=[0], X_cur_train.shape=(2567965, 10), X_cur_test.shape=(1100557, 10)\n",
            "INFO:gcforest.estimators.kfold_wrapper:Accuracy(layer_0 - estimator_0 - 10_folds.train_0.predict)=100.00%\n",
            "INFO:gcforest.estimators.kfold_wrapper:Accuracy(layer_0 - estimator_0 - 10_folds.train_1.predict)=100.00%\n",
            "INFO:gcforest.estimators.kfold_wrapper:Accuracy(layer_0 - estimator_0 - 10_folds.train_2.predict)=100.00%\n",
            "INFO:gcforest.estimators.kfold_wrapper:Accuracy(layer_0 - estimator_0 - 10_folds.train_3.predict)=100.00%\n",
            "INFO:gcforest.estimators.kfold_wrapper:Accuracy(layer_0 - estimator_0 - 10_folds.train_4.predict)=100.00%\n",
            "INFO:gcforest.estimators.kfold_wrapper:Accuracy(layer_0 - estimator_0 - 10_folds.train_5.predict)=100.00%\n",
            "INFO:gcforest.estimators.kfold_wrapper:Accuracy(layer_0 - estimator_0 - 10_folds.train_6.predict)=100.00%\n",
            "INFO:gcforest.estimators.kfold_wrapper:Accuracy(layer_0 - estimator_0 - 10_folds.train_7.predict)=100.00%\n",
            "INFO:gcforest.estimators.kfold_wrapper:Accuracy(layer_0 - estimator_0 - 10_folds.train_8.predict)=100.00%\n",
            "INFO:gcforest.estimators.kfold_wrapper:Accuracy(layer_0 - estimator_0 - 10_folds.train_9.predict)=100.00%\n",
            "INFO:gcforest.estimators.kfold_wrapper:Accuracy(layer_0 - estimator_0 - 10_folds.train_cv.predict)=100.00%\n",
            "INFO:gcforest.estimators.kfold_wrapper:Accuracy(layer_0 - estimator_0 - 10_folds.test.predict)=100.00%\n",
            "INFO:gcforest.cascade.cascade_classifier:Accuracy(layer_0 - train.classifier_average)=100.00%\n",
            "INFO:gcforest.cascade.cascade_classifier:Accuracy(layer_0 - test.classifier_average)=100.00%\n",
            "INFO:gcforest.cascade.cascade_classifier:[Result][Reach Max Layer] opt_layer_num=1, accuracy_train=100.00%, accuracy_test=100.00%\n"
          ]
        }
      ],
      "source": [
        "# X_enc is the concatenated predict_proba result of DeepExtraTrees\n",
        "X_train_enc, X_test_enc = gc.fit_transform(X_train, y_train, X_test=X_test, y_test=y_test)"
      ]
    },
    {
      "cell_type": "code",
      "source": [
        "# predict\n",
        "y_pred = gc.predict(X_test)\n",
        "acc = accuracy_score(y_test, y_pred)\n",
        "print(\"Test Accuracy of DeepExtratTrees = {:.6f} %\".format(acc * 100))\n",
        " # Matrix de confusion\n",
        "from sklearn.metrics import classification_report, confusion_matrix\n",
        "print(confusion_matrix(y_test,y_pred))\n",
        "print('\\n')\n",
        "print(classification_report(y_test,y_pred))"
      ],
      "metadata": {
        "id": "2PNSLYx0IV3q",
        "outputId": "4074a68b-9bc1-4929-ca12-770b627fae78",
        "colab": {
          "base_uri": "https://localhost:8080/"
        }
      },
      "execution_count": 106,
      "outputs": [
        {
          "output_type": "stream",
          "name": "stderr",
          "text": [
            "INFO:gcforest.cascade.cascade_classifier:X_groups_test.shape=[(1100557, 10)]\n",
            "INFO:gcforest.cascade.cascade_classifier:group_dims=[10]\n",
            "INFO:gcforest.cascade.cascade_classifier:X_test.shape=(1100557, 10)\n",
            "INFO:gcforest.cascade.cascade_classifier:[layer=0] look_indexs=[0], X_cur_test.shape=(1100557, 10)\n"
          ]
        },
        {
          "output_type": "stream",
          "name": "stdout",
          "text": [
            "Test Accuracy of DeepExtratTrees = 99.999182 %\n",
            "[[    140       8]\n",
            " [      1 1100408]]\n",
            "\n",
            "\n",
            "              precision    recall  f1-score   support\n",
            "\n",
            "         0.0       0.99      0.95      0.97       148\n",
            "         1.0       1.00      1.00      1.00   1100409\n",
            "\n",
            "    accuracy                           1.00   1100557\n",
            "   macro avg       1.00      0.97      0.98   1100557\n",
            "weighted avg       1.00      1.00      1.00   1100557\n",
            "\n"
          ]
        }
      ]
    },
    {
      "cell_type": "code",
      "source": [
        "#define metrics\n",
        "from sklearn.metrics import roc_auc_score\n",
        "\n",
        "y_pred_proba = model.predict_proba(X_test)[::,1]\n",
        "fpr, tpr, _ = metrics.roc_curve(y_test,  y_pred_proba)\n",
        "auc = metrics.roc_auc_score(y_test, y_pred_proba)\n",
        "\n",
        "#create ROC curve\n",
        "plt.plot(fpr,tpr,label=\"AUC=\"+str(auc))\n",
        "plt.ylabel('True Positive Rate')\n",
        "plt.xlabel('False Positive Rate')\n",
        "plt.legend(loc=4)\n",
        "plt.show()"
      ],
      "metadata": {
        "id": "OcZQ_7mlKVvL",
        "outputId": "a4f33e71-c46f-434d-9fa6-028837733c08",
        "colab": {
          "base_uri": "https://localhost:8080/",
          "height": 314
        }
      },
      "execution_count": 107,
      "outputs": [
        {
          "output_type": "stream",
          "name": "stdout",
          "text": [
            "[2023-01-08 21:26:39.138] Start to evalute the model:\n",
            "[2023-01-08 21:26:39.714] Evaluating cascade layer = 0 \n"
          ]
        },
        {
          "output_type": "display_data",
          "data": {
            "text/plain": [
              "<Figure size 432x288 with 1 Axes>"
            ],
            "image/png": "[encoded data removed]"
          },
          "metadata": {
            "needs_background": "light"
          }
        }
      ]
    },
    {
      "cell_type": "markdown",
      "source": [
        "# **CascadeForestClassifier**"
      ],
      "metadata": {
        "id": "ClL3ztpXBIBZ"
      }
    },
    {
      "cell_type": "code",
      "source": [
        "#!pip install deep-forest"
      ],
      "metadata": {
        "id": "ciKSsGl4BQvu"
      },
      "execution_count": 109,
      "outputs": []
    },
    {
      "cell_type": "code",
      "execution_count": 110,
      "metadata": {
        "colab": {
          "base_uri": "https://localhost:8080/"
        },
        "id": "wnXiV9EZ7csS",
        "outputId": "2f5ec7e1-46d4-4890-beb0-344ff817a8e0"
      },
      "outputs": [
        {
          "output_type": "stream",
          "name": "stdout",
          "text": [
            "[2023-01-08 21:27:41.526] Start to fit the model:\n",
            "[2023-01-08 21:27:41.527] Fitting cascade layer = 0 \n",
            "[2023-01-08 21:40:38.823] layer = 0  | Val Acc = 99.999 % | Elapsed = 777.297 s\n",
            "[2023-01-08 21:40:39.425] Fitting cascade layer = 1 \n",
            "[2023-01-08 21:48:34.944] layer = 1  | Val Acc = 99.999 % | Elapsed = 475.519 s\n",
            "[2023-01-08 21:48:34.946] Early stopping counter: 1 out of 2\n",
            "[2023-01-08 21:48:35.437] Fitting cascade layer = 2 \n",
            "[2023-01-08 21:57:39.764] layer = 2  | Val Acc = 99.999 % | Elapsed = 544.326 s\n",
            "[2023-01-08 21:57:39.766] Early stopping counter: 2 out of 2\n",
            "[2023-01-08 21:57:39.767] Handling early stopping\n",
            "[2023-01-08 21:57:39.771] The optimal number of layers: 1\n",
            "[2023-01-08 21:57:39.806] Start to evalute the model:\n",
            "[2023-01-08 21:57:40.416] Evaluating cascade layer = 0 \n",
            "\n",
            "Testing Accuracy: 99.999 %\n"
          ]
        }
      ],
      "source": [
        "from sklearn.datasets import load_digits\n",
        "from sklearn.model_selection import train_test_split\n",
        "from sklearn.metrics import accuracy_score\n",
        "\n",
        "from deepforest import CascadeForestClassifier\n",
        "\n",
        "\n",
        "model = CascadeForestClassifier(random_state=1)\n",
        "model.fit(X_train, y_train)\n",
        "y_pred = model.predict(X_test)\n",
        "acc = accuracy_score(y_test, y_pred) * 100\n",
        "print(\"\\nTesting Accuracy: {:.3f} %\".format(acc))"
      ]
    },
    {
      "cell_type": "code",
      "source": [
        "# predict\n",
        "y_pred = model.predict(X_test)\n",
        "acc = accuracy_score(y_test, y_pred)\n",
        "print(\"Test Accuracy of CascadeForestClassifier = {:.6f} %\".format(acc * 100))\n",
        " # Matrix de confusion\n",
        "from sklearn.metrics import classification_report, confusion_matrix\n",
        "print(confusion_matrix(y_test,y_pred))\n",
        "print('\\n')\n",
        "print(classification_report(y_test,y_pred))"
      ],
      "metadata": {
        "id": "9Duxdn6VJJGB",
        "outputId": "19fbbd3b-c885-40b7-c53a-da3816a5cdb5",
        "colab": {
          "base_uri": "https://localhost:8080/"
        }
      },
      "execution_count": 111,
      "outputs": [
        {
          "output_type": "stream",
          "name": "stdout",
          "text": [
            "[2023-01-08 21:57:56.207] Start to evalute the model:\n",
            "[2023-01-08 21:57:56.825] Evaluating cascade layer = 0 \n",
            "Test Accuracy of CascadeForestClassifier = 99.999091 %\n",
            "[[    138      10]\n",
            " [      0 1100409]]\n",
            "\n",
            "\n",
            "              precision    recall  f1-score   support\n",
            "\n",
            "         0.0       1.00      0.93      0.97       148\n",
            "         1.0       1.00      1.00      1.00   1100409\n",
            "\n",
            "    accuracy                           1.00   1100557\n",
            "   macro avg       1.00      0.97      0.98   1100557\n",
            "weighted avg       1.00      1.00      1.00   1100557\n",
            "\n"
          ]
        }
      ]
    },
    {
      "cell_type": "code",
      "source": [
        "# Plot non-normalized confusion matrix\n",
        "#np.set_printoptions(precision=2)\n",
        "\n",
        "titles_options = [\n",
        "    (\"CascadeForestClassifier Confusion matrix, without normalization\", None),\n",
        "    (\"CascadeForestClassifier Normalized confusion matrix\", \"true\"),\n",
        "]\n",
        "for title, normalize in titles_options:\n",
        "    disp = ConfusionMatrixDisplay.from_estimator(\n",
        "        model,\n",
        "        X_test,\n",
        "        y_test,\n",
        "        #display_labels=class_names,\n",
        "        cmap=plt.cm.Blues,\n",
        "        normalize=normalize,\n",
        "    )\n",
        "    disp.ax_.set_title(title)\n",
        "\n",
        "    print(title)\n",
        "    print(disp.confusion_matrix)\n",
        "\n",
        "plt.show()"
      ],
      "metadata": {
        "id": "b0xOvEfmFZqA",
        "outputId": "0bcf4c75-94c8-428e-84a3-2d06cd7a4ce5",
        "colab": {
          "base_uri": "https://localhost:8080/",
          "height": 747
        }
      },
      "execution_count": 112,
      "outputs": [
        {
          "output_type": "stream",
          "name": "stdout",
          "text": [
            "[2023-01-08 21:58:16.167] Start to evalute the model:\n",
            "[2023-01-08 21:58:16.798] Evaluating cascade layer = 0 \n",
            "CascadeForestClassifier Confusion matrix, without normalization\n",
            "[[    138      10]\n",
            " [      0 1100409]]\n",
            "[2023-01-08 21:58:33.457] Start to evalute the model:\n",
            "[2023-01-08 21:58:34.082] Evaluating cascade layer = 0 \n",
            "CascadeForestClassifier Normalized confusion matrix\n",
            "[[0.93 0.07]\n",
            " [0.   1.  ]]\n"
          ]
        },
        {
          "output_type": "display_data",
          "data": {
            "text/plain": [
              "<Figure size 432x288 with 2 Axes>"
            ],
            "image/png": "[encoded data removed]"
          },
          "metadata": {
            "needs_background": "light"
          }
        },
        {
          "output_type": "display_data",
          "data": {
            "text/plain": [
              "<Figure size 432x288 with 2 Axes>"
            ],
            "image/png": "[encoded data removed]"
          },
          "metadata": {
            "needs_background": "light"
          }
        }
      ]
    },
    {
      "cell_type": "code",
      "source": [
        "#define metrics\n",
        "from sklearn import metrics\n",
        "\n",
        "y_pred_proba = model.predict_proba(X_test)[::,1]\n",
        "fpr, tpr, _ = metrics.roc_curve(y_test,  y_pred_proba)\n",
        "auc = metrics.roc_auc_score(y_test, y_pred_proba)\n",
        "#create ROC curve\n",
        "plt.plot(fpr,tpr,label=\"AUC=\"+str(auc))\n",
        "plt.ylabel('True Positive Rate')\n",
        "plt.xlabel('False Positive Rate')\n",
        "plt.legend(loc=4)\n",
        "plt.show()"
      ],
      "metadata": {
        "id": "7WKlFhKkJ8ZR",
        "outputId": "4ed10bbf-9df8-41ae-cd85-1956ea3ad3d0",
        "colab": {
          "base_uri": "https://localhost:8080/",
          "height": 314
        }
      },
      "execution_count": 116,
      "outputs": [
        {
          "output_type": "stream",
          "name": "stdout",
          "text": [
            "[2023-01-08 22:00:15.526] Start to evalute the model:\n",
            "[2023-01-08 22:00:16.677] Evaluating cascade layer = 0 \n"
          ]
        },
        {
          "output_type": "display_data",
          "data": {
            "text/plain": [
              "<Figure size 432x288 with 1 Axes>"
            ],
            "image/png": "[encoded data removed]"
          },
          "metadata": {
            "needs_background": "light"
          }
        }
      ]
    }
  ],
  "metadata": {
    "kernelspec": {
      "display_name": "Python 3 (ipykernel)",
      "language": "python",
      "name": "python3"
    },
    "language_info": {
      "codemirror_mode": {
        "name": "ipython",
        "version": 3
      },
      "file_extension": ".py",
      "mimetype": "text/x-python",
      "name": "python",
      "nbconvert_exporter": "python",
      "pygments_lexer": "ipython3",
      "version": "3.9.7"
    },
    "colab": {
      "provenance": []
    },
    "accelerator": "TPU",
    "gpuClass": "standard"
  },
  "nbformat": 4,
  "nbformat_minor": 0
}